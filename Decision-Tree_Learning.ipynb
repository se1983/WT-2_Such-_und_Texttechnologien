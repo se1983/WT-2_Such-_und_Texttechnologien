{
 "cells": [
  {
   "cell_type": "code",
   "execution_count": 1,
   "metadata": {
    "collapsed": true
   },
   "outputs": [],
   "source": [
    "import pandas as pd\n",
    "from math import log2\n",
    "%matplotlib inline"
   ]
  },
  {
   "cell_type": "markdown",
   "metadata": {
    "collapsed": false,
    "scrolled": true
   },
   "source": [
    "# Decision-Tree Learning\n",
    "\n",
    "Decision tree learning uses a decision tree as a predictive model observations about an item (represented in the branches) to conclusions about the item's target value (represented in the leaves). It is one of the predictive modelling approaches used in statistics, data mining and machine learning. Tree models where the target variable can take a finite set of values are called classification trees; in these tree structures, leaves represent class labels and branches represent conjunctions of features that lead to those class labels. Decision trees where the target variable can take continuous values (typically real numbers) are called regression trees.  \n",
    "[Source](https://en.wikipedia.org/wiki/Decision_tree_learning)"
   ]
  },
  {
   "cell_type": "markdown",
   "metadata": {},
   "source": [
    "## Entropy\n",
    "\n",
    "$$\n",
    "E(S) = - \\sum\\limits_{i=1}^{n} p_1 \\cdot \\log_2(p_i) \n",
    "$$\n"
   ]
  },
  {
   "cell_type": "code",
   "execution_count": 2,
   "metadata": {
    "collapsed": false
   },
   "outputs": [],
   "source": [
    "def entropy(S):\n",
    "            \n",
    "    outcomes = pd.unique(S[final])\n",
    "    ent = lambda p: 0 if p == 0 else p * log2(p) \n",
    "    \n",
    "    return -sum([  ent( S[S[final] == o].size / S.size ) for o in outcomes ])\n"
   ]
  },
  {
   "cell_type": "markdown",
   "metadata": {},
   "source": [
    "## Information\n",
    "$$\n",
    "I(S, A) = - \\sum\\limits_{i=1}^{n} \\frac{|S_i|}{|S|} \\cdot E(S_i)\n",
    "$$"
   ]
  },
  {
   "cell_type": "code",
   "execution_count": 3,
   "metadata": {
    "collapsed": false
   },
   "outputs": [],
   "source": [
    "def information(S, A):\n",
    "    partitions = pd.unique(S[A])\n",
    "\n",
    "    return sum([( S[A][S[A] == p].size / S[A].size ) * \n",
    "            entropy( S[S[A] == p]) for p in partitions])\n",
    "    "
   ]
  },
  {
   "cell_type": "markdown",
   "metadata": {},
   "source": [
    "## Information Gain\n",
    "$$\n",
    "\\mbox{Gain}(S, A) = E(S) - I(S,A)\n",
    "$$"
   ]
  },
  {
   "cell_type": "code",
   "execution_count": 4,
   "metadata": {
    "collapsed": false
   },
   "outputs": [],
   "source": [
    "def gain(S, A):     \n",
    "    return entropy(S) - information(S, A)"
   ]
  },
  {
   "cell_type": "markdown",
   "metadata": {},
   "source": [
    "## Instrinsic Information\n",
    "$$\n",
    "\\mbox{IntI}(S,A) = - \\sum\\limits_i \\frac{|S_i|}{|S|} \\cdot \\log_2(\\frac{|S_i|}{|S|})\n",
    "$$"
   ]
  },
  {
   "cell_type": "code",
   "execution_count": 5,
   "metadata": {
    "collapsed": true
   },
   "outputs": [],
   "source": [
    "def intrinsic_information(S, A):\n",
    "    partitions = pd.unique(S[A])\n",
    "\n",
    "    return -sum([( S[A][S[A] == p].size / S[A].size ) * \n",
    "                log2( S[A][S[A] == p].size / S[A].size )  for p in partitions])"
   ]
  },
  {
   "cell_type": "markdown",
   "metadata": {},
   "source": [
    "## Gain Ratio\n",
    "\n",
    "$$\n",
    "GR(S,A) = \\frac{\\mbox{Gain}(S,A)}{\\mbox{IntI}(S,A)}\n",
    "$$"
   ]
  },
  {
   "cell_type": "code",
   "execution_count": 6,
   "metadata": {
    "collapsed": true
   },
   "outputs": [],
   "source": [
    "def gain_ratio(S, A):\n",
    "    return gain(S,A) / intrinsic_information(S,A)"
   ]
  },
  {
   "cell_type": "markdown",
   "metadata": {},
   "source": [
    "## Gini-Index\n",
    "\n",
    "$$\n",
    "    \\mbox{Gini}(S) = 1- \\sum\\limits_i p_i^2\n",
    "$$\n",
    "\n",
    "$$\n",
    "    \\mbox{Gini}(S, A)  = \\sum\\limits_i \\frac{|s_i|}{|S|} \\cdot \\mbox{Gini}(S)\n",
    "$$"
   ]
  },
  {
   "cell_type": "code",
   "execution_count": 7,
   "metadata": {
    "collapsed": true
   },
   "outputs": [],
   "source": [
    "def gini(S, A=None):\n",
    "    \n",
    "    if A == None:\n",
    "        return 1-sum( \n",
    "            [(S[S[final] == o].size / S.size)**2 for o in  pd.unique(S[final])] \n",
    "        )\n",
    "    \n",
    "    return sum( [ ( S[A][S[A] == p].size / S[A].size ) * gini(S[S[A] == p]) for p in pd.unique(S[A])]  )"
   ]
  },
  {
   "cell_type": "code",
   "execution_count": 8,
   "metadata": {
    "collapsed": true
   },
   "outputs": [],
   "source": [
    "_exec = lambda f : {col: f(data, col) for col in data.columns if not col == final}"
   ]
  },
  {
   "cell_type": "code",
   "execution_count": 9,
   "metadata": {
    "collapsed": false
   },
   "outputs": [
    {
     "data": {
      "text/html": [
       "<div>\n",
       "<table border=\"1\" class=\"dataframe\">\n",
       "  <thead>\n",
       "    <tr style=\"text-align: right;\">\n",
       "      <th></th>\n",
       "      <th>gain</th>\n",
       "      <th>gain_ratio</th>\n",
       "      <th>gini</th>\n",
       "      <th>information</th>\n",
       "    </tr>\n",
       "  </thead>\n",
       "  <tbody>\n",
       "    <tr>\n",
       "      <th>Day</th>\n",
       "      <td>0.940286</td>\n",
       "      <td>0.246966</td>\n",
       "      <td>0.000000</td>\n",
       "      <td>0.000000</td>\n",
       "    </tr>\n",
       "    <tr>\n",
       "      <th>Humidity</th>\n",
       "      <td>0.151836</td>\n",
       "      <td>0.151836</td>\n",
       "      <td>0.367347</td>\n",
       "      <td>0.788450</td>\n",
       "    </tr>\n",
       "    <tr>\n",
       "      <th>Outlook</th>\n",
       "      <td>0.246750</td>\n",
       "      <td>0.156428</td>\n",
       "      <td>0.342857</td>\n",
       "      <td>0.693536</td>\n",
       "    </tr>\n",
       "    <tr>\n",
       "      <th>Temperature</th>\n",
       "      <td>0.029223</td>\n",
       "      <td>0.018773</td>\n",
       "      <td>0.440476</td>\n",
       "      <td>0.911063</td>\n",
       "    </tr>\n",
       "    <tr>\n",
       "      <th>Windy</th>\n",
       "      <td>0.048127</td>\n",
       "      <td>0.048849</td>\n",
       "      <td>0.428571</td>\n",
       "      <td>0.892159</td>\n",
       "    </tr>\n",
       "  </tbody>\n",
       "</table>\n",
       "</div>"
      ],
      "text/plain": [
       "                 gain  gain_ratio      gini  information\n",
       "Day          0.940286    0.246966  0.000000     0.000000\n",
       "Humidity     0.151836    0.151836  0.367347     0.788450\n",
       "Outlook      0.246750    0.156428  0.342857     0.693536\n",
       "Temperature  0.029223    0.018773  0.440476     0.911063\n",
       "Windy        0.048127    0.048849  0.428571     0.892159"
      ]
     },
     "execution_count": 9,
     "metadata": {},
     "output_type": "execute_result"
    }
   ],
   "source": [
    "data = pd.read_csv('playgolf.txt')\n",
    "final='Play Golf?'\n",
    "\n",
    "out = pd.DataFrame( dict(\n",
    "    gain = _exec(gain), \n",
    "    information = _exec(information), \n",
    "    gain_ratio = _exec(gain_ratio),\n",
    "    gini = _exec(gini)\n",
    ") )\n",
    "out"
   ]
  },
  {
   "cell_type": "code",
   "execution_count": 10,
   "metadata": {
    "collapsed": false
   },
   "outputs": [
    {
     "data": {
      "image/png": "[encoded data removed]",
      "text/plain": [
       "<matplotlib.figure.Figure at 0x7f2b94fde940>"
      ]
     },
     "metadata": {},
     "output_type": "display_data"
    }
   ],
   "source": [
    "_ = out.plot(kind='bar')"
   ]
  },
  {
   "cell_type": "code",
   "execution_count": 11,
   "metadata": {
    "collapsed": false
   },
   "outputs": [
    {
     "data": {
      "text/html": [
       "<div>\n",
       "<table border=\"1\" class=\"dataframe\">\n",
       "  <thead>\n",
       "    <tr style=\"text-align: right;\">\n",
       "      <th></th>\n",
       "      <th>gain</th>\n",
       "      <th>gain_ratio</th>\n",
       "      <th>gini</th>\n",
       "      <th>information</th>\n",
       "    </tr>\n",
       "  </thead>\n",
       "  <tbody>\n",
       "    <tr>\n",
       "      <th>age</th>\n",
       "      <td>0.039397</td>\n",
       "      <td>0.024856</td>\n",
       "      <td>0.520833</td>\n",
       "      <td>1.286691</td>\n",
       "    </tr>\n",
       "    <tr>\n",
       "      <th>astic</th>\n",
       "      <td>0.377005</td>\n",
       "      <td>0.377005</td>\n",
       "      <td>0.465278</td>\n",
       "      <td>0.949082</td>\n",
       "    </tr>\n",
       "    <tr>\n",
       "      <th>specRx</th>\n",
       "      <td>0.039511</td>\n",
       "      <td>0.039511</td>\n",
       "      <td>0.527778</td>\n",
       "      <td>1.286577</td>\n",
       "    </tr>\n",
       "    <tr>\n",
       "      <th>tear</th>\n",
       "      <td>0.548795</td>\n",
       "      <td>0.548795</td>\n",
       "      <td>0.326389</td>\n",
       "      <td>0.777293</td>\n",
       "    </tr>\n",
       "  </tbody>\n",
       "</table>\n",
       "</div>"
      ],
      "text/plain": [
       "            gain  gain_ratio      gini  information\n",
       "age     0.039397    0.024856  0.520833     1.286691\n",
       "astic   0.377005    0.377005  0.465278     0.949082\n",
       "specRx  0.039511    0.039511  0.527778     1.286577\n",
       "tear    0.548795    0.548795  0.326389     0.777293"
      ]
     },
     "execution_count": 11,
     "metadata": {},
     "output_type": "execute_result"
    }
   ],
   "source": [
    "data = pd.read_csv('lens24.dat')\n",
    "final = 'class'\n",
    " \n",
    "out = pd.DataFrame( dict(\n",
    "    gain = _exec(gain), \n",
    "    information = _exec(information), \n",
    "    gain_ratio = _exec(gain_ratio),\n",
    "    gini = _exec(gini)\n",
    ") )\n",
    "out"
   ]
  },
  {
   "cell_type": "code",
   "execution_count": 12,
   "metadata": {
    "collapsed": false
   },
   "outputs": [
    {
     "data": {
      "image/png": "[encoded data removed]",
      "text/plain": [
       "<matplotlib.figure.Figure at 0x7f2b91c00b38>"
      ]
     },
     "metadata": {},
     "output_type": "display_data"
    }
   ],
   "source": [
    "_ = out.plot(kind='bar')"
   ]
  }
 ],
 "metadata": {
  "kernelspec": {
   "display_name": "Python 3",
   "language": "python",
   "name": "python3"
  },
  "language_info": {
   "codemirror_mode": {
    "name": "ipython",
    "version": 3
   },
   "file_extension": ".py",
   "mimetype": "text/x-python",
   "name": "python",
   "nbconvert_exporter": "python",
   "pygments_lexer": "ipython3",
   "version": "3.6.0"
  }
 },
 "nbformat": 4,
 "nbformat_minor": 2
}
