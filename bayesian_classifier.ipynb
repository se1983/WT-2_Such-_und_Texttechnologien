{
 "cells": [
  {
   "cell_type": "markdown",
   "metadata": {},
   "source": [
    "# Bayesian Classifier\n",
    "\n",
    "## Erste Übungaufgabe aus dem Fach WT-2  Text- und Suchtechnologien bei Herrn Prof. Dr. Gefei Zhang\n",
    "\n",
    "\n",
    "+ Sebastian Schmid -- S0543196"
   ]
  },
  {
   "cell_type": "code",
   "execution_count": 1,
   "metadata": {
    "collapsed": true
   },
   "outputs": [],
   "source": [
    "import numpy as np"
   ]
  },
  {
   "cell_type": "markdown",
   "metadata": {},
   "source": [
    "$$\n",
    "P(day \\land season \\land wind \\land rain | class) = P(c | d) \\cdot P(c|s) \\cdot P(c|w) \\cdot P(c|r) \\cdot P(c)\n",
    "$$\n",
    "\n"
   ]
  },
  {
   "cell_type": "code",
   "execution_count": 2,
   "metadata": {
    "collapsed": false
   },
   "outputs": [],
   "source": [
    "def calculate_score(classname, _dat):\n",
    "    C = data[data[:,len(_dat)] == classname] \n",
    "    attributes = [ C[C[:,i] == attr] for i, attr in enumerate(_dat) ]\n",
    "    return (C.shape[0]/data.shape[0]) * np.prod( [(a.shape[0] / C.shape[0]) for a in attributes] )"
   ]
  },
  {
   "cell_type": "code",
   "execution_count": 1,
   "metadata": {
    "collapsed": false
   },
   "outputs": [],
   "source": [
    "classifier = lambda _dat, classes : classes[np.argmax(\n",
    "    [calculate_score(classname, _dat) for classname in classes])]"
   ]
  },
  {
   "cell_type": "code",
   "execution_count": 4,
   "metadata": {
    "collapsed": false
   },
   "outputs": [
    {
     "data": {
      "text/plain": [
       "'on time'"
      ]
     },
     "execution_count": 4,
     "metadata": {},
     "output_type": "execute_result"
    }
   ],
   "source": [
    "data = np.genfromtxt('./weather.txt', delimiter=', ', dtype=str, skip_header=True)\n",
    "classes = ['on time', 'late', 'very late']\n",
    "classifier(['weekday', 'spring', 'normal', 'none'], classes)"
   ]
  },
  {
   "cell_type": "code",
   "execution_count": 5,
   "metadata": {
    "collapsed": false
   },
   "outputs": [
    {
     "data": {
      "text/plain": [
       "3"
      ]
     },
     "execution_count": 5,
     "metadata": {},
     "output_type": "execute_result"
    }
   ],
   "source": [
    "data = np.genfromtxt('./lens24.dat', delimiter=',', dtype=int, skip_header=True)\n",
    "classes = [1,2,3]\n",
    "classifier([1,1,1,1], classes)"
   ]
  }
 ],
 "metadata": {
  "kernelspec": {
   "display_name": "Python 3",
   "language": "python",
   "name": "python3"
  },
  "language_info": {
   "codemirror_mode": {
    "name": "ipython",
    "version": 3
   },
   "file_extension": ".py",
   "mimetype": "text/x-python",
   "name": "python",
   "nbconvert_exporter": "python",
   "pygments_lexer": "ipython3",
   "version": "3.6.0"
  }
 },
 "nbformat": 4,
 "nbformat_minor": 2
}
